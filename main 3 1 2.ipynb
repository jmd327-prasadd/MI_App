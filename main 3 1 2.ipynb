{
 "cells": [
  {
   "cell_type": "code",
   "execution_count": 2,
   "metadata": {},
   "outputs": [],
   "source": [
    "# !pip install python-dotenv"
   ]
  },
  {
   "cell_type": "code",
   "execution_count": 3,
   "metadata": {},
   "outputs": [],
   "source": [
    "import requests\n",
    "import base64\n",
    "import pandas as pd\n",
    "import numpy as np\n",
    "import pytz\n",
    "import os\n",
    "from dotenv import load_dotenv"
   ]
  },
  {
   "cell_type": "code",
   "execution_count": 4,
   "metadata": {},
   "outputs": [],
   "source": [
    "load_dotenv()\n",
    "\n",
    "organization = os.getenv(\"ORGANIZATION\")\n",
    "project = os.getenv(\"PROJECT\")\n",
    "pat = os.getenv(\"AZURE_PAT\")\n",
    "\n",
    "\n",
    "credentials = base64.b64encode(f\":{pat}\".encode(\"utf-8\")).decode(\"utf-8\")\n",
    "\n",
    "url = f\"https://dev.azure.com/{organization}/{project}/_apis/wit/reporting/workitemrevisions?includeLatestOnly=false&includeDeleted=false&startDateTime=2024-10-01T00:00:00Z&api-version=7.1\"\n",
    "\n",
    "params = {\n",
    "    \"$expand\": \"none\",\n",
    "    \"$skip\": 0, \n",
    "    \"$top\": 100 \n",
    "}\n",
    "\n",
    "headers = {\n",
    "    \"Authorization\": f\"Basic {credentials}\",\n",
    "    \"Content-Type\": \"application/json\",\n",
    "}"
   ]
  },
  {
   "cell_type": "code",
   "execution_count": 5,
   "metadata": {},
   "outputs": [],
   "source": [
    "def fetch_all_work_items():\n",
    "    all_work_items = []\n",
    "    continuation_token = None\n",
    "\n",
    "    while True:\n",
    "        if continuation_token:\n",
    "            params[\"continuationToken\"] = continuation_token\n",
    "\n",
    "        response = requests.get(url, headers=headers, params=params)\n",
    "\n",
    "        if response.status_code == 200:\n",
    "            data = response.json()\n",
    "            all_work_items.extend(data.get(\"values\", []))\n",
    "            \n",
    "            if not len(data.get('values', [])):\n",
    "                break\n",
    "            continuation_token = data.get(\"continuationToken\") \n",
    "\n",
    "        else:\n",
    "            print(\"Failed to fetch work items. Status code:\", response.status_code)\n",
    "            print(\"Response:\", response.text)\n",
    "            break\n",
    "    \n",
    "    \n",
    "    return all_work_items\n"
   ]
  },
  {
   "cell_type": "code",
   "execution_count": 6,
   "metadata": {},
   "outputs": [
    {
     "name": "stdout",
     "output_type": "stream",
     "text": [
      "Total records fetched: 24332\n"
     ]
    }
   ],
   "source": [
    "work_items = fetch_all_work_items()\n",
    "print(f\"Total records fetched: {len(work_items)}\")\n"
   ]
  },
  {
   "cell_type": "code",
   "execution_count": 7,
   "metadata": {},
   "outputs": [],
   "source": [
    "data = [\n",
    "    {**item[\"fields\"]}\n",
    "    for item in work_items\n",
    "]\n",
    "\n",
    "df = pd.DataFrame(data)"
   ]
  },
  {
   "cell_type": "code",
   "execution_count": 8,
   "metadata": {},
   "outputs": [],
   "source": [
    "india_timezone = pytz.timezone('Asia/Kolkata')\n",
    "\n",
    "def convert_to_ist(date):\n",
    "    if pd.isna(date):\n",
    "        return date\n",
    "    elif date.tzinfo is None: \n",
    "        return date.tz_localize('UTC').tz_convert(india_timezone)\n",
    "    else:\n",
    "        return date.tz_convert(india_timezone)\n",
    "\n",
    "\n",
    "df['System.CreatedDate'] = pd.to_datetime(df['System.CreatedDate'], errors='coerce').apply(convert_to_ist)\n",
    "df['Microsoft.VSTS.Scheduling.StartDate'] = pd.to_datetime(df['Microsoft.VSTS.Scheduling.StartDate'], errors='coerce').apply(convert_to_ist)\n",
    "df['Microsoft.VSTS.Scheduling.TargetDate'] = pd.to_datetime(df['Microsoft.VSTS.Scheduling.TargetDate'], errors='coerce').apply(convert_to_ist)\n",
    "df['System.ChangedDate'] = pd.to_datetime(df['System.ChangedDate'], errors='coerce').apply(convert_to_ist)\n",
    "df['Microsoft.VSTS.Common.ClosedDate'] = pd.to_datetime(df['Microsoft.VSTS.Common.ClosedDate'], errors='coerce').apply(convert_to_ist)\n"
   ]
  },
  {
   "cell_type": "code",
   "execution_count": 9,
   "metadata": {},
   "outputs": [],
   "source": [
    "df = df.rename(columns={\n",
    "    \"System.Id\": \"ID\",\n",
    "    \"System.Rev\": \"Revision\",\n",
    "    \"System.AreaId\": \"AreaId\",\n",
    "    \"System.AreaPath\": \"AreaPath\",\n",
    "    \"System.CreatedDate\": \"CreatedDate\",\n",
    "    \"System.CreatedBy\": \"CreatedBy\",\n",
    "    \"Microsoft.VSTS.Scheduling.StartDate\": \"StartDate\",\n",
    "    \"Microsoft.VSTS.Scheduling.TargetDate\": \"TargetDate\",\n",
    "    \"System.ChangedDate\": \"ChangedDate\",\n",
    "    \"System.ChangedBy\": \"ChangedBy\",\n",
    "    \"System.Reason\": \"Reason\",\n",
    "    \"System.State\": \"State\",\n",
    "    \"System.WorkItemType\": \"WorkItemType\",\n",
    "    \"System.AssignedTo\": \"AssignedTo\",\n",
    "    \"System.Title\": \"Title\",\n",
    "    \"Microsoft.VSTS.Scheduling.RemainingWork\": \"RemainingWork\",\n",
    "    \"Microsoft.VSTS.Scheduling.OriginalEstimate\": \"OriginalEstimate\",\n",
    "    \"Microsoft.VSTS.Scheduling.CompletedWork\": \"CompletedWork\",\n",
    "    \"Microsoft.VSTS.Common.ClosedDate\": \"ClosedDate\",\n",
    "    \"Microsoft.VSTS.Common.ClosedBy\": \"ClosedBy\",\n",
    "    \"System.Tags\": \"Tags\",  \n",
    "    \"Microsoft.VSTS.Common.Priority\": \"Priority\", \n",
    "    \"Custom.PriorityI\": \"PriorityI\", \n",
    "})\n"
   ]
  },
  {
   "cell_type": "code",
   "execution_count": 10,
   "metadata": {},
   "outputs": [],
   "source": [
    "desired_columns = [\n",
    "    \"ID\", \"Revision\", \"AreaId\", \"AreaPath\", \"CreatedDate\", \"CreatedBy\",\n",
    "    \"StartDate\", \"TargetDate\", \"ChangedDate\", \"ChangedBy\", \"Reason\", \"State\",\n",
    "    \"WorkItemType\", \"AssignedTo\", \"Title\", \"RemainingWork\", \"OriginalEstimate\",\n",
    "    \"CompletedWork\", \"ClosedDate\", \"ClosedBy\", \"Tags\", \"Priority\", \"PriorityI\"\n",
    "]\n",
    "\n",
    "df = df[desired_columns]"
   ]
  },
  {
   "cell_type": "code",
   "execution_count": 11,
   "metadata": {},
   "outputs": [],
   "source": [
    "df['AssignedTo'] = df['AssignedTo'].str.extract(r'(.*?)(?=<)')"
   ]
  },
  {
   "cell_type": "code",
   "execution_count": 12,
   "metadata": {},
   "outputs": [],
   "source": [
    "def extract_project_name(value):\n",
    "    if value == 'managed-services':\n",
    "        return value\n",
    "    return value.split('\\\\')[-1]\n",
    "\n",
    "df['Project Name'] = df['AreaPath'].apply(extract_project_name)"
   ]
  },
  {
   "cell_type": "code",
   "execution_count": 13,
   "metadata": {},
   "outputs": [],
   "source": [
    "df['WorkHours'] = None\n",
    "df['Date'] = None"
   ]
  },
  {
   "cell_type": "code",
   "execution_count": 14,
   "metadata": {},
   "outputs": [],
   "source": [
    "df['WorkHours'] = df['WorkHours'].astype(float)\n",
    "df['Date'] = pd.to_datetime(df['Date'], errors='coerce')"
   ]
  },
  {
   "cell_type": "code",
   "execution_count": 15,
   "metadata": {},
   "outputs": [],
   "source": [
    "df['Date'] = np.where(\n",
    "    (df['StartDate'].isnull()) & (df['TargetDate'].isnull()), \n",
    "    df['ChangedDate'].dt.date,  # If both are null, use ChangedDate\n",
    "    np.where(\n",
    "        df['TargetDate'].isnull(),\n",
    "        np.where(\n",
    "            df['StartDate'] > df['ChangedDate'], \n",
    "            df['StartDate'].dt.date,  # If StartDate > ChangedDate, use StartDate\n",
    "            np.where(\n",
    "                df['State'] == 'Doing', \n",
    "                df['ChangedDate'].dt.date,  # If State == 'doing', use ChangedDate\n",
    "                df['StartDate'].dt.date     # Otherwise, use StartDate\n",
    "            )\n",
    "        ),\n",
    "        np.where(\n",
    "            df['StartDate'].isnull(), \n",
    "            np.where(\n",
    "                df['TargetDate'] >= df['ChangedDate'],\n",
    "                df['ChangedDate'].dt.date,  # If TargetDate >= ChangedDate, use ChangedDate\n",
    "                df['TargetDate'].dt.date    # Otherwise, use TargetDate\n",
    "            ),\n",
    "            np.where(\n",
    "                (df['ChangedDate'] >= df['StartDate']) & (df['ChangedDate'] <= df['TargetDate']),\n",
    "                df['ChangedDate'].dt.date,  # If ChangedDate is between StartDate and TargetDate, use ChangedDate\n",
    "                np.where(\n",
    "                    (df['ChangedDate'] <= df['StartDate']) & (df['ChangedDate'] <= df['TargetDate']),\n",
    "                    df['StartDate'].dt.date,  # If ChangedDate is <= both StartDate and TargetDate, use StartDate\n",
    "                    df['TargetDate'].dt.date    # Otherwise, use TargetDate\n",
    "                )\n",
    "            )\n",
    "        )\n",
    "    )\n",
    ")\n"
   ]
  },
  {
   "cell_type": "code",
   "execution_count": 16,
   "metadata": {},
   "outputs": [],
   "source": [
    "df = df.sort_values(by=[\"ID\", \"ChangedDate\"]).reset_index(drop=True)\n",
    "\n",
    "for id_group, group in df.groupby('ID'):\n",
    "    if group.empty:\n",
    "        continue  # Skip empty groups\n",
    "    prev_completed_work = None\n",
    "    for i, row in group.iterrows():\n",
    "        current_completed_work = row['CompletedWork']\n",
    "        if pd.isna(prev_completed_work):\n",
    "            if not pd.isna(current_completed_work):\n",
    "                df.at[i, 'WorkHours'] = current_completed_work\n",
    "            else:\n",
    "                df.at[i, 'WorkHours'] = np.nan\n",
    "        else:\n",
    "            if not pd.isna(current_completed_work):\n",
    "                df.at[i, 'WorkHours'] = current_completed_work - prev_completed_work\n",
    "            else:\n",
    "                df.at[i, 'WorkHours'] = np.nan\n",
    "        prev_completed_work = current_completed_work"
   ]
  },
  {
   "cell_type": "code",
   "execution_count": 17,
   "metadata": {},
   "outputs": [],
   "source": [
    "df = df.sort_values(by=['ID', 'Date', 'ChangedDate'], ascending=[True, True, True])\n",
    "\n",
    "# Perform the groupby operation, aggregating the relevant columns\n",
    "grouped_df = df.groupby(['ID', 'Date'], as_index=False).agg(\n",
    "    {\n",
    "        # For each column, take the latest value based on ChangedDate (last within the group)\n",
    "        'Revision': 'last',\n",
    "        'AreaId': 'last',\n",
    "        'AreaPath': 'last',\n",
    "        'CreatedDate': 'last',\n",
    "        'CreatedBy': 'last',\n",
    "        'StartDate': 'last',\n",
    "        'TargetDate': 'last',\n",
    "        'ChangedDate': 'last',\n",
    "        'ChangedBy': 'last',\n",
    "        'Reason': 'last',\n",
    "        'State': 'last',\n",
    "        'WorkItemType': 'last',\n",
    "        'AssignedTo': 'last',\n",
    "        'Title': 'last',\n",
    "        'RemainingWork': 'last',\n",
    "        'OriginalEstimate': 'last',\n",
    "        'CompletedWork': 'last',\n",
    "        'ClosedDate': 'last',\n",
    "        'ClosedBy': 'last',\n",
    "        'Tags': 'last',\n",
    "        'Priority': 'last',\n",
    "        'PriorityI': 'last',\n",
    "        # 'WorkPriority': 'last',\n",
    "        # 'PriorityD': 'last',\n",
    "        'Project Name': 'last',\n",
    "        \n",
    "        # Sum the WorkHours within the group\n",
    "        'WorkHours': 'sum'\n",
    "    }\n",
    ")\n",
    "\n"
   ]
  },
  {
   "cell_type": "code",
   "execution_count": 18,
   "metadata": {},
   "outputs": [],
   "source": [
    "grouped_df.to_csv('output_file.csv', index=False)"
   ]
  }
 ],
 "metadata": {
  "kernelspec": {
   "display_name": "Python 3",
   "language": "python",
   "name": "python3"
  },
  "language_info": {
   "codemirror_mode": {
    "name": "ipython",
    "version": 3
   },
   "file_extension": ".py",
   "mimetype": "text/x-python",
   "name": "python",
   "nbconvert_exporter": "python",
   "pygments_lexer": "ipython3",
   "version": "3.11.9"
  }
 },
 "nbformat": 4,
 "nbformat_minor": 2
}
